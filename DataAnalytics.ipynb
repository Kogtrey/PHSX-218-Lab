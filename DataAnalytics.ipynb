{
 "cells": [
  {
   "cell_type": "code",
   "execution_count": 18,
   "metadata": {},
   "outputs": [],
   "source": [
    "import numpy as np\n",
    "import pandas as pd\n",
    "import matplotlib as plot\n"
   ]
  },
  {
   "cell_type": "code",
   "execution_count": 34,
   "metadata": {},
   "outputs": [],
   "source": [
    "def totalE (m,v,h):\n",
    "    return (1/2 * m * v**2) + (m * 9.8 * h)"
   ]
  },
  {
   "cell_type": "code",
   "execution_count": 13,
   "metadata": {},
   "outputs": [],
   "source": [
    "def ruleOne(c,dA):\n",
    "    \n",
    "    return np.abs(c) * dA"
   ]
  },
  {
   "cell_type": "code",
   "execution_count": 14,
   "metadata": {},
   "outputs": [],
   "source": [
    "def ruleTwo(c,m,A,dA):\n",
    "    return np.abs(c * m * (A**(m-1))) * dA"
   ]
  },
  {
   "cell_type": "code",
   "execution_count": 36,
   "metadata": {},
   "outputs": [],
   "source": [
    "def ruleThree(deltas):\n",
    "    return np.sqrt(np.sum(deltas**2))"
   ]
  },
  {
   "cell_type": "code",
   "execution_count": 35,
   "metadata": {},
   "outputs": [],
   "source": [
    "def ruleFour(Q,const,deltas,vals):\n",
    "    return np.abs(Q) * np.sqrt(np.sum((const * deltas/vals)**2))"
   ]
  },
  {
   "cell_type": "code",
   "execution_count": 37,
   "metadata": {},
   "outputs": [],
   "source": [
    "def thermal_a(DL,L,Tf,Ti):\n",
    "    return DL / (L * (Tf - Ti))"
   ]
  },
  {
   "cell_type": "code",
   "execution_count": 42,
   "metadata": {},
   "outputs": [],
   "source": [
    "L = 1.05\n",
    "DL = 0.00125\n",
    "Ti = 23.4\n",
    "Tf= 92.5\n",
    "\n",
    "a = thermal_a(DL,L,Tf,Ti)"
   ]
  },
  {
   "cell_type": "code",
   "execution_count": 45,
   "metadata": {},
   "outputs": [
    {
     "name": "stdout",
     "output_type": "stream",
     "text": [
      "alpha =  1.7228309558266145e-05  meters per degree celcius, plus/minus  2.615307978828764e-07\n"
     ]
    }
   ],
   "source": [
    "a = thermal_a(DL,L,Tf,Ti)\n",
    "const = np.array([1,-1,-1,-1])\n",
    "delt = np.array([0.00001,0.001,0.3,0.1])\n",
    "vals = np.array([0.00125,1.05,23.4,92.5])\n",
    "\n",
    "da = ruleFour(a,const,delt,vals)\n",
    "\n",
    "print(\"alpha = \",a,\" meters per degree celcius, plus/minus \",da)"
   ]
  },
  {
   "cell_type": "markdown",
   "metadata": {},
   "source": [
    "**Final Numbers**\n",
    "* a = 0.0000172283\n",
    "* Uncertainty = 0.00000026153\n"
   ]
  },
  {
   "cell_type": "code",
   "execution_count": null,
   "metadata": {},
   "outputs": [],
   "source": []
  }
 ],
 "metadata": {
  "kernelspec": {
   "display_name": "Python 3",
   "language": "python",
   "name": "python3"
  },
  "language_info": {
   "codemirror_mode": {
    "name": "ipython",
    "version": 3
   },
   "file_extension": ".py",
   "mimetype": "text/x-python",
   "name": "python",
   "nbconvert_exporter": "python",
   "pygments_lexer": "ipython3",
   "version": "3.6.9"
  }
 },
 "nbformat": 4,
 "nbformat_minor": 4
}
