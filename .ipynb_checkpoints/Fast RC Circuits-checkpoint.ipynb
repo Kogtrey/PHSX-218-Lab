{
 "cells": [
  {
   "cell_type": "markdown",
   "metadata": {},
   "source": [
    "# Fast RC \n",
    "    - $ \\tau = RC $\n",
    "    - Time constant is very small\n",
    "    - Not able to measure w/ voltmeter & stopwatch\n",
    "    - 'Enter the Oscilloscope\n",
    "\n",
    "    - Oscilloscope ~= Voltmeter\n",
    "\n",
    "    - Function Generator ~= Power Supply & Switch\n",
    "\n",
    "# Steps:\n",
    "\n",
    "### 1. Walk through inro-Equip to learn how to use\n",
    "### 2. Single RC\n",
    "### 3. Experiment 2:\n",
    "    - Two caps in parallel\n",
    "\n",
    "### 4. Experiment 3:\n",
    "    - Two caps in series\n",
    "    \n",
    "### 5. Calculate \"theoretical\"  T\n",
    "    - for all three experiments based on direct measurements of R,C values\n"
   ]
  },
  {
   "cell_type": "code",
   "execution_count": 2,
   "metadata": {},
   "outputs": [],
   "source": [
    "import DataAnalytics as data\n",
    "import numpy as np"
   ]
  },
  {
   "cell_type": "code",
   "execution_count": 10,
   "metadata": {},
   "outputs": [
    {
     "name": "stdout",
     "output_type": "stream",
     "text": [
      "Single Theoretical:  9.93e-05 +- 9.930005035245452e-05 ; Measured:  0.11541560327111708\n",
      "Parallel Theoretical:  0.0001986 ; Measured:  0.23083120654223416 +- 0.00014043154916186038\n",
      "Series Theoretical:  4.965e-05 ; Measured:  0.05770780163555854 +- 7.850355883652666e-05\n"
     ]
    }
   ],
   "source": [
    "R = 9.93*1000 #Ohms\n",
    "C = 0.01*10**-6 #F\n",
    "T = R * C\n",
    "\n",
    "'>>>>>>>>>>>>>>>>>>>>>>>>>>>>>>>>>>>>>>>>>>>>>>>>>>>'\n",
    "\n",
    "Q = T\n",
    "const = np.array([1,1])\n",
    "delts = np.array([0.01*1000,0.01E-6])\n",
    "vals = np.array([R,C])\n",
    "dTt = data.ruleFour(Q,const,delts,vals)\n",
    "\n",
    "\n",
    "single_thalf = 0.08 #ms\n",
    "P1_T = single_thalf/np.log(2)\n",
    "\n",
    "\n",
    "print(\"Single Theoretical: \",T,\"+-\",dTt,\"; Measured: \",P1_T)\n",
    "\n",
    "'>>>>>>>>>>>>>>>>>>>>>>>>>>>>>>>>>>>>>>>>>>>>>>>>>>>'\n",
    "R = R\n",
    "C_p = 2*C\n",
    "T = R*C_p\n",
    "\n",
    "#Find Error in C\n",
    "dC = data.ruleThree(np.array([0.01*10**-6,0.01*10**-6]))\n",
    "\n",
    "#Find Error in T\n",
    "Q = T\n",
    "const = np.array([1,1])\n",
    "delts = np.array([0.01*1000,dC])\n",
    "vals = np.array([R,C_p])\n",
    "\n",
    "dTt = data.ruleFour(Q,const,delts,vals)\n",
    "\n",
    "parallel_thalf = 0.16 #ms\n",
    "P2_T = parallel_thalf/np.log(2)\n",
    "\n",
    "print(\"Parallel Theoretical: \",T,\"; Measured: \",P2_T,\"+-\",dTt)\n",
    "\n",
    "'>>>>>>>>>>>>>>>>>>>>>>>>>>>>>>>>>>>>>>>>>>>>>>>>>>>'\n",
    "R = R\n",
    "C_s = (1/2) * C\n",
    "T = R*C_s\n",
    "\n",
    "#Find Error in C\n",
    "Q_C = C_s\n",
    "const_C = np.array([1,1,-1])\n",
    "delts_C = np.array([0.01*10**-6,0.01*10**-6,dC])\n",
    "vals_C = np.array([C,C,2 * C])\n",
    "dC = data.ruleFour(Q_C,const_C,delts_C,vals_C)\n",
    "\n",
    "#Find Error in T\n",
    "Q = T\n",
    "const = np.array([1,1])\n",
    "delts = np.array([0.01*1000,dC])\n",
    "vals = np.array([R,C_s])\n",
    "dTt = data.ruleFour(Q,const,delts,vals)\n",
    "series_thalf = 0.04 #ms\n",
    "P3_T = series_thalf/np.log(2)\n",
    "\n",
    "print(\"Series Theoretical: \",T,\"; Measured: \",P3_T,\"+-\",dTt)\n"
   ]
  },
  {
   "cell_type": "code",
   "execution_count": null,
   "metadata": {},
   "outputs": [],
   "source": []
  }
 ],
 "metadata": {
  "kernelspec": {
   "display_name": "Python 3",
   "language": "python",
   "name": "python3"
  },
  "language_info": {
   "codemirror_mode": {
    "name": "ipython",
    "version": 3
   },
   "file_extension": ".py",
   "mimetype": "text/x-python",
   "name": "python",
   "nbconvert_exporter": "python",
   "pygments_lexer": "ipython3",
   "version": "3.6.9"
  }
 },
 "nbformat": 4,
 "nbformat_minor": 4
}
