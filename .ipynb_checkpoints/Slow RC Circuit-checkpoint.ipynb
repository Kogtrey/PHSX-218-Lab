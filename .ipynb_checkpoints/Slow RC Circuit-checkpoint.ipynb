{
 "cells": [
  {
   "cell_type": "code",
   "execution_count": 4,
   "metadata": {},
   "outputs": [],
   "source": [
    "import DataAnalytics as data\n",
    "import numpy as np\n",
    "import matplotlib.pyplot as plt"
   ]
  },
  {
   "cell_type": "code",
   "execution_count": 9,
   "metadata": {},
   "outputs": [
    {
     "data": {
      "text/plain": [
       "[<matplotlib.lines.Line2D at 0x7f5af02e8908>]"
      ]
     },
     "execution_count": 9,
     "metadata": {},
     "output_type": "execute_result"
    },
    {
     "data": {
      "image/png": "[encoded data removed]",
      "text/plain": [
       "<Figure size 432x288 with 1 Axes>"
      ]
     },
     "metadata": {
      "needs_background": "light"
     },
     "output_type": "display_data"
    }
   ],
   "source": [
    "T = [10,20,30,40,50,60,70,80,90,100,110,120]\n",
    "\n",
    "V_Charge = [3.722,6.076,7.74,8.87,9.65,10.16,10.54,10.79,10.96,11.08,11.16,11.21]\n",
    "\n",
    "plt.plot(T,V_Charge,'b.-')\n",
    "\n",
    "V_Discharge = [7.91,5.52,3.793,2.635,1.842,1.273,0.899,0.628,0.447,0.316,0.225,0.162]\n",
    "\n",
    "plt.plot(T,V_Discharge,'r.-')"
   ]
  },
  {
   "cell_type": "code",
   "execution_count": 12,
   "metadata": {},
   "outputs": [
    {
     "name": "stdout",
     "output_type": "stream",
     "text": [
      "0.029966648127543506\n",
      "0.03298636081776817\n"
     ]
    }
   ],
   "source": [
    "Tau_Charge = [29.91,30,30.17,30,30.19,30.19,30.15,30,30.14,30.05]\n",
    "dTauCharge = np.std(Tau_Charge)/np.sqrt(len(Tau_Charge))\n",
    "print(dTauCharge)\n",
    "Tau_Discharge = [26,26.13,26.13,26.16,26.1,26.4,26.13,26,26.15,26.13]\n",
    "dTauDis = np.std(Tau_Discharge)/np.sqrt(len(Tau_Discharge))\n",
    "print(dTauDis)\n"
   ]
  },
  {
   "cell_type": "code",
   "execution_count": 16,
   "metadata": {},
   "outputs": [
    {
     "name": "stdout",
     "output_type": "stream",
     "text": [
      "Tau Charge +- Error_Tau  30.080000000000002  +-  0.029966648127543506\n",
      "Tau Discharge +- Error_Tau  26.133  +-  0.03298636081776817\n"
     ]
    }
   ],
   "source": [
    "print(\"Tau Charge +- Error_Tau \", np.array(Tau_Charge).mean(), \" +- \", dTauCharge)\n",
    "print(\"Tau Discharge +- Error_Tau \", np.array(Tau_Discharge).mean(), \" +- \", dTauDis)\n"
   ]
  },
  {
   "cell_type": "code",
   "execution_count": 25,
   "metadata": {},
   "outputs": [
    {
     "name": "stdout",
     "output_type": "stream",
     "text": [
      "Tau Calculated: 27.056019999999997\n"
     ]
    }
   ],
   "source": [
    "R = 502.9 #KOhms\n",
    "C = 53.8 #uF\n",
    "\n",
    "Calc_tau = (502.9*1000)*(53.8*(10**-6))\n",
    "\n",
    "print(\"Tau Calculated: \" + str(Calc_tau))"
   ]
  },
  {
   "cell_type": "code",
   "execution_count": null,
   "metadata": {},
   "outputs": [],
   "source": []
  }
 ],
 "metadata": {
  "kernelspec": {
   "display_name": "Python 3",
   "language": "python",
   "name": "python3"
  },
  "language_info": {
   "codemirror_mode": {
    "name": "ipython",
    "version": 3
   },
   "file_extension": ".py",
   "mimetype": "text/x-python",
   "name": "python",
   "nbconvert_exporter": "python",
   "pygments_lexer": "ipython3",
   "version": "3.6.9"
  }
 },
 "nbformat": 4,
 "nbformat_minor": 4
}
